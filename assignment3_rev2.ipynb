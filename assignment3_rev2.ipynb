{
 "cells": [
  {
   "cell_type": "code",
   "execution_count": 1,
   "id": "f5a8a445-996a-4584-ba30-37a337f52960",
   "metadata": {},
   "outputs": [],
   "source": [
    "import numpy as np\n",
    "import pandas as pd\n",
    "import matplotlib.pyplot as plt"
   ]
  },
  {
   "cell_type": "code",
   "execution_count": 4,
   "id": "98b81602-ffdf-4a46-92fc-dcbbe3ecb090",
   "metadata": {},
   "outputs": [],
   "source": [
    "dataframe=pd.read_excel('Employees.xlsx')"
   ]
  },
  {
   "cell_type": "code",
   "execution_count": 5,
   "id": "6f228ec8-f6c1-4db0-b1b1-6b794b13ae88",
   "metadata": {},
   "outputs": [
    {
     "data": {
      "text/plain": [
       "Index(['No', 'First Name', 'Last Name', 'Gender', 'Start Date', 'Years',\n",
       "       'Department', 'Country', 'Center', 'Monthly Salary', 'Annual Salary',\n",
       "       'Job Rate', 'Sick Leaves', 'Unpaid Leaves', 'Overtime Hours'],\n",
       "      dtype='object')"
      ]
     },
     "execution_count": 5,
     "metadata": {},
     "output_type": "execute_result"
    }
   ],
   "source": [
    "dataframe.columns"
   ]
  },
  {
   "cell_type": "code",
   "execution_count": 6,
   "id": "ee98dc20-6d8c-47a8-9181-67b7be013ac7",
   "metadata": {},
   "outputs": [
    {
     "data": {
      "text/plain": [
       "Index(['No', 'First Name', 'Last Name', 'Gender', 'Start Date', 'Years',\n",
       "       'Department', 'Country', 'Center', 'Monthly Salary', 'Annual Salary',\n",
       "       'Job Rate', 'Sick Leaves', 'Unpaid Leaves', 'Overtime Hours'],\n",
       "      dtype='object')"
      ]
     },
     "execution_count": 6,
     "metadata": {},
     "output_type": "execute_result"
    }
   ],
   "source": [
    "dataframe.columns"
   ]
  },
  {
   "cell_type": "code",
   "execution_count": 7,
   "id": "50451bb1-800c-46b8-8730-b52f46bc5002",
   "metadata": {},
   "outputs": [
    {
     "data": {
      "text/plain": [
       "2"
      ]
     },
     "execution_count": 7,
     "metadata": {},
     "output_type": "execute_result"
    }
   ],
   "source": [
    "dataframe['Gender'].nunique()"
   ]
  },
  {
   "cell_type": "code",
   "execution_count": 9,
   "id": "f0d85523-ed93-4a4d-98b6-97654de7188d",
   "metadata": {},
   "outputs": [],
   "source": [
    "group=dataframe.groupby('Department')['Annual Salary'].mean()"
   ]
  },
  {
   "cell_type": "code",
   "execution_count": 10,
   "id": "fd524c3a-4654-47fa-8e24-715d46f3d468",
   "metadata": {},
   "outputs": [
    {
     "data": {
      "text/plain": [
       "pandas.core.series.Series"
      ]
     },
     "execution_count": 10,
     "metadata": {},
     "output_type": "execute_result"
    }
   ],
   "source": [
    "type(group)"
   ]
  },
  {
   "cell_type": "code",
   "execution_count": 11,
   "id": "7a41381a-823e-40e2-ae5e-1343147c4638",
   "metadata": {},
   "outputs": [
    {
     "data": {
      "text/plain": [
       "Department\n",
       "Account Management             23246.000000\n",
       "Creative                       24135.789474\n",
       "Environmental Compliance       30097.846154\n",
       "Environmental Health/Safety    24005.333333\n",
       "Facilities/Engineering         27423.310345\n",
       "Name: Annual Salary, dtype: float64"
      ]
     },
     "execution_count": 11,
     "metadata": {},
     "output_type": "execute_result"
    }
   ],
   "source": [
    "group.head()"
   ]
  },
  {
   "cell_type": "code",
   "execution_count": 12,
   "id": "7de5bada-7fb3-4a39-92fa-8d443b2b17e3",
   "metadata": {},
   "outputs": [],
   "source": [
    "group=group.reset_index()"
   ]
  },
  {
   "cell_type": "code",
   "execution_count": 13,
   "id": "a184b47e-8787-4ae0-945a-94bc88ddb4c1",
   "metadata": {},
   "outputs": [
    {
     "data": {
      "text/plain": [
       "pandas.core.frame.DataFrame"
      ]
     },
     "execution_count": 13,
     "metadata": {},
     "output_type": "execute_result"
    }
   ],
   "source": [
    "type(group)"
   ]
  },
  {
   "cell_type": "code",
   "execution_count": 14,
   "id": "c5889982-e159-4554-983d-128c1f10f91a",
   "metadata": {},
   "outputs": [
    {
     "data": {
      "text/html": [
       "<div>\n",
       "<style scoped>\n",
       "    .dataframe tbody tr th:only-of-type {\n",
       "        vertical-align: middle;\n",
       "    }\n",
       "\n",
       "    .dataframe tbody tr th {\n",
       "        vertical-align: top;\n",
       "    }\n",
       "\n",
       "    .dataframe thead th {\n",
       "        text-align: right;\n",
       "    }\n",
       "</style>\n",
       "<table border=\"1\" class=\"dataframe\">\n",
       "  <thead>\n",
       "    <tr style=\"text-align: right;\">\n",
       "      <th></th>\n",
       "      <th>Department</th>\n",
       "      <th>Annual Salary</th>\n",
       "    </tr>\n",
       "  </thead>\n",
       "  <tbody>\n",
       "    <tr>\n",
       "      <th>0</th>\n",
       "      <td>Account Management</td>\n",
       "      <td>23246.000000</td>\n",
       "    </tr>\n",
       "    <tr>\n",
       "      <th>1</th>\n",
       "      <td>Creative</td>\n",
       "      <td>24135.789474</td>\n",
       "    </tr>\n",
       "    <tr>\n",
       "      <th>2</th>\n",
       "      <td>Environmental Compliance</td>\n",
       "      <td>30097.846154</td>\n",
       "    </tr>\n",
       "    <tr>\n",
       "      <th>3</th>\n",
       "      <td>Environmental Health/Safety</td>\n",
       "      <td>24005.333333</td>\n",
       "    </tr>\n",
       "    <tr>\n",
       "      <th>4</th>\n",
       "      <td>Facilities/Engineering</td>\n",
       "      <td>27423.310345</td>\n",
       "    </tr>\n",
       "  </tbody>\n",
       "</table>\n",
       "</div>"
      ],
      "text/plain": [
       "                    Department  Annual Salary\n",
       "0           Account Management   23246.000000\n",
       "1                     Creative   24135.789474\n",
       "2     Environmental Compliance   30097.846154\n",
       "3  Environmental Health/Safety   24005.333333\n",
       "4       Facilities/Engineering   27423.310345"
      ]
     },
     "execution_count": 14,
     "metadata": {},
     "output_type": "execute_result"
    }
   ],
   "source": [
    "group.head()"
   ]
  },
  {
   "cell_type": "code",
   "execution_count": 15,
   "id": "eeb32c6f-f396-43ab-a77c-2700635f1441",
   "metadata": {},
   "outputs": [
    {
     "data": {
      "text/plain": [
       "24690.480337078654"
      ]
     },
     "execution_count": 15,
     "metadata": {},
     "output_type": "execute_result"
    }
   ],
   "source": [
    "group['Annual Salary'].median()"
   ]
  },
  {
   "cell_type": "code",
   "execution_count": 16,
   "id": "8c3c280d-779d-4fad-af9b-4132f99dd8cc",
   "metadata": {},
   "outputs": [
    {
     "data": {
      "text/html": [
       "<div>\n",
       "<style scoped>\n",
       "    .dataframe tbody tr th:only-of-type {\n",
       "        vertical-align: middle;\n",
       "    }\n",
       "\n",
       "    .dataframe tbody tr th {\n",
       "        vertical-align: top;\n",
       "    }\n",
       "\n",
       "    .dataframe thead th {\n",
       "        text-align: right;\n",
       "    }\n",
       "</style>\n",
       "<table border=\"1\" class=\"dataframe\">\n",
       "  <thead>\n",
       "    <tr style=\"text-align: right;\">\n",
       "      <th></th>\n",
       "      <th>Annual Salary</th>\n",
       "    </tr>\n",
       "  </thead>\n",
       "  <tbody>\n",
       "    <tr>\n",
       "      <th>count</th>\n",
       "      <td>20.000000</td>\n",
       "    </tr>\n",
       "    <tr>\n",
       "      <th>mean</th>\n",
       "      <td>25302.938609</td>\n",
       "    </tr>\n",
       "    <tr>\n",
       "      <th>std</th>\n",
       "      <td>2259.607733</td>\n",
       "    </tr>\n",
       "    <tr>\n",
       "      <th>min</th>\n",
       "      <td>22644.000000</td>\n",
       "    </tr>\n",
       "    <tr>\n",
       "      <th>25%</th>\n",
       "      <td>23898.117647</td>\n",
       "    </tr>\n",
       "    <tr>\n",
       "      <th>50%</th>\n",
       "      <td>24690.480337</td>\n",
       "    </tr>\n",
       "    <tr>\n",
       "      <th>75%</th>\n",
       "      <td>25757.850000</td>\n",
       "    </tr>\n",
       "    <tr>\n",
       "      <th>max</th>\n",
       "      <td>30670.285714</td>\n",
       "    </tr>\n",
       "  </tbody>\n",
       "</table>\n",
       "</div>"
      ],
      "text/plain": [
       "       Annual Salary\n",
       "count      20.000000\n",
       "mean    25302.938609\n",
       "std      2259.607733\n",
       "min     22644.000000\n",
       "25%     23898.117647\n",
       "50%     24690.480337\n",
       "75%     25757.850000\n",
       "max     30670.285714"
      ]
     },
     "execution_count": 16,
     "metadata": {},
     "output_type": "execute_result"
    }
   ],
   "source": [
    "group.describe()"
   ]
  },
  {
   "cell_type": "code",
   "execution_count": 20,
   "id": "491f11e3-a143-474e-a238-eee1f92c567e",
   "metadata": {},
   "outputs": [
    {
     "name": "stdout",
     "output_type": "stream",
     "text": [
      "                                     mean   median    min    max           std\n",
      "Department                                                                    \n",
      "Account Management           23246.000000  24210.0   8436  41400   9181.787746\n",
      "Creative                     24135.789474  26256.0  11316  40656   7164.486921\n",
      "Environmental Compliance     30097.846154  30468.0  13932  40248   7672.453865\n",
      "Environmental Health/Safety  24005.333333  23652.0  17160  37440   6751.512127\n",
      "Facilities/Engineering       27423.310345  29340.0   9864  40848   9461.022389\n",
      "Green Building               24994.500000  23856.0  11628  39300  10575.013556\n",
      "Human Resources              30670.285714  29136.0  22572  37116   5494.412122\n",
      "IT                           25374.300000  24234.0   8532  39096   9082.833982\n",
      "Major Mfg Projects           26908.500000  29220.0  11964  41352   9114.869092\n",
      "Manufacturing                24055.628571  23652.0   8628  40932   8824.917344\n",
      "Manufacturing Admin          23052.000000  26484.0  15480  28332   6341.446523\n",
      "Marketing                    24733.500000  23802.0   8484  40920  10185.860726\n",
      "Product Development          23576.470588  24696.0   8928  40044   9855.895600\n",
      "Professional Training Group  24485.142857  24384.0   9960  39384   9517.167701\n",
      "Quality Assurance            25007.104478  25380.0  10080  41040   9504.880196\n",
      "Quality Control              24647.460674  25632.0   8676  41316   8989.061154\n",
      "Research Center              22644.000000  14760.0  13152  36816  11619.253677\n",
      "Research/Development         25183.200000  25584.0   9996  37560  10256.496244\n",
      "Sales                        23477.400000  23682.0   9696  39732   8853.801588\n",
      "Training                     28341.000000  28638.0   9744  40008   9706.195135\n"
     ]
    }
   ],
   "source": [
    "# Grouping by 'Department' and computing summary statistics for 'Annual Salary'\n",
    "grouped_summary = dataframe.groupby('Department')['Annual Salary'].agg(\n",
    "    ['mean', 'median', 'min', 'max', 'std']\n",
    ")\n",
    "print(grouped_summary)\n"
   ]
  },
  {
   "cell_type": "code",
   "execution_count": 21,
   "id": "3317567a-2b4c-4066-9aaf-7f442852e64e",
   "metadata": {},
   "outputs": [],
   "source": [
    "from sklearn.datasets import load_iris"
   ]
  },
  {
   "cell_type": "code",
   "execution_count": 22,
   "id": "4638928a-3d1f-4909-ac9e-5e75788d825b",
   "metadata": {},
   "outputs": [],
   "source": [
    "iris=load_iris()\n",
    "df=pd.DataFrame(data=iris.data,columns=iris.feature_names)"
   ]
  },
  {
   "cell_type": "code",
   "execution_count": 23,
   "id": "24d8ea08-ec28-4d59-9852-176d12d5d4bb",
   "metadata": {},
   "outputs": [
    {
     "data": {
      "text/html": [
       "<div>\n",
       "<style scoped>\n",
       "    .dataframe tbody tr th:only-of-type {\n",
       "        vertical-align: middle;\n",
       "    }\n",
       "\n",
       "    .dataframe tbody tr th {\n",
       "        vertical-align: top;\n",
       "    }\n",
       "\n",
       "    .dataframe thead th {\n",
       "        text-align: right;\n",
       "    }\n",
       "</style>\n",
       "<table border=\"1\" class=\"dataframe\">\n",
       "  <thead>\n",
       "    <tr style=\"text-align: right;\">\n",
       "      <th></th>\n",
       "      <th>sepal length (cm)</th>\n",
       "      <th>sepal width (cm)</th>\n",
       "      <th>petal length (cm)</th>\n",
       "      <th>petal width (cm)</th>\n",
       "    </tr>\n",
       "  </thead>\n",
       "  <tbody>\n",
       "    <tr>\n",
       "      <th>0</th>\n",
       "      <td>5.1</td>\n",
       "      <td>3.5</td>\n",
       "      <td>1.4</td>\n",
       "      <td>0.2</td>\n",
       "    </tr>\n",
       "    <tr>\n",
       "      <th>1</th>\n",
       "      <td>4.9</td>\n",
       "      <td>3.0</td>\n",
       "      <td>1.4</td>\n",
       "      <td>0.2</td>\n",
       "    </tr>\n",
       "    <tr>\n",
       "      <th>2</th>\n",
       "      <td>4.7</td>\n",
       "      <td>3.2</td>\n",
       "      <td>1.3</td>\n",
       "      <td>0.2</td>\n",
       "    </tr>\n",
       "    <tr>\n",
       "      <th>3</th>\n",
       "      <td>4.6</td>\n",
       "      <td>3.1</td>\n",
       "      <td>1.5</td>\n",
       "      <td>0.2</td>\n",
       "    </tr>\n",
       "    <tr>\n",
       "      <th>4</th>\n",
       "      <td>5.0</td>\n",
       "      <td>3.6</td>\n",
       "      <td>1.4</td>\n",
       "      <td>0.2</td>\n",
       "    </tr>\n",
       "  </tbody>\n",
       "</table>\n",
       "</div>"
      ],
      "text/plain": [
       "   sepal length (cm)  sepal width (cm)  petal length (cm)  petal width (cm)\n",
       "0                5.1               3.5                1.4               0.2\n",
       "1                4.9               3.0                1.4               0.2\n",
       "2                4.7               3.2                1.3               0.2\n",
       "3                4.6               3.1                1.5               0.2\n",
       "4                5.0               3.6                1.4               0.2"
      ]
     },
     "execution_count": 23,
     "metadata": {},
     "output_type": "execute_result"
    }
   ],
   "source": [
    "df.head()"
   ]
  },
  {
   "cell_type": "code",
   "execution_count": 24,
   "id": "e1b36730-a09d-497b-9c80-f134d5c5476f",
   "metadata": {},
   "outputs": [],
   "source": [
    "df['species']=pd.Categorical.from_codes(iris.target,iris.target_names)"
   ]
  },
  {
   "cell_type": "code",
   "execution_count": 25,
   "id": "83c1fe32-0b4b-4566-9920-417383b3f1e5",
   "metadata": {},
   "outputs": [
    {
     "data": {
      "text/html": [
       "<div>\n",
       "<style scoped>\n",
       "    .dataframe tbody tr th:only-of-type {\n",
       "        vertical-align: middle;\n",
       "    }\n",
       "\n",
       "    .dataframe tbody tr th {\n",
       "        vertical-align: top;\n",
       "    }\n",
       "\n",
       "    .dataframe thead th {\n",
       "        text-align: right;\n",
       "    }\n",
       "</style>\n",
       "<table border=\"1\" class=\"dataframe\">\n",
       "  <thead>\n",
       "    <tr style=\"text-align: right;\">\n",
       "      <th></th>\n",
       "      <th>sepal length (cm)</th>\n",
       "      <th>sepal width (cm)</th>\n",
       "      <th>petal length (cm)</th>\n",
       "      <th>petal width (cm)</th>\n",
       "      <th>species</th>\n",
       "    </tr>\n",
       "  </thead>\n",
       "  <tbody>\n",
       "    <tr>\n",
       "      <th>0</th>\n",
       "      <td>5.1</td>\n",
       "      <td>3.5</td>\n",
       "      <td>1.4</td>\n",
       "      <td>0.2</td>\n",
       "      <td>setosa</td>\n",
       "    </tr>\n",
       "    <tr>\n",
       "      <th>1</th>\n",
       "      <td>4.9</td>\n",
       "      <td>3.0</td>\n",
       "      <td>1.4</td>\n",
       "      <td>0.2</td>\n",
       "      <td>setosa</td>\n",
       "    </tr>\n",
       "    <tr>\n",
       "      <th>2</th>\n",
       "      <td>4.7</td>\n",
       "      <td>3.2</td>\n",
       "      <td>1.3</td>\n",
       "      <td>0.2</td>\n",
       "      <td>setosa</td>\n",
       "    </tr>\n",
       "    <tr>\n",
       "      <th>3</th>\n",
       "      <td>4.6</td>\n",
       "      <td>3.1</td>\n",
       "      <td>1.5</td>\n",
       "      <td>0.2</td>\n",
       "      <td>setosa</td>\n",
       "    </tr>\n",
       "    <tr>\n",
       "      <th>4</th>\n",
       "      <td>5.0</td>\n",
       "      <td>3.6</td>\n",
       "      <td>1.4</td>\n",
       "      <td>0.2</td>\n",
       "      <td>setosa</td>\n",
       "    </tr>\n",
       "  </tbody>\n",
       "</table>\n",
       "</div>"
      ],
      "text/plain": [
       "   sepal length (cm)  sepal width (cm)  petal length (cm)  petal width (cm)  \\\n",
       "0                5.1               3.5                1.4               0.2   \n",
       "1                4.9               3.0                1.4               0.2   \n",
       "2                4.7               3.2                1.3               0.2   \n",
       "3                4.6               3.1                1.5               0.2   \n",
       "4                5.0               3.6                1.4               0.2   \n",
       "\n",
       "  species  \n",
       "0  setosa  \n",
       "1  setosa  \n",
       "2  setosa  \n",
       "3  setosa  \n",
       "4  setosa  "
      ]
     },
     "execution_count": 25,
     "metadata": {},
     "output_type": "execute_result"
    }
   ],
   "source": [
    "df.head()"
   ]
  },
  {
   "cell_type": "code",
   "execution_count": 26,
   "id": "5f640ccf-6360-4228-a515-593eff89f659",
   "metadata": {},
   "outputs": [],
   "source": [
    "species=df['species'].unique()"
   ]
  },
  {
   "cell_type": "code",
   "execution_count": 27,
   "id": "7eeb3a1b-3e41-4813-b148-dfaef02e42f5",
   "metadata": {},
   "outputs": [
    {
     "name": "stdout",
     "output_type": "stream",
     "text": [
      "Describing  setosa\n",
      "       sepal length (cm)  sepal width (cm)  petal length (cm)  \\\n",
      "count           50.00000         50.000000          50.000000   \n",
      "mean             5.00600          3.428000           1.462000   \n",
      "std              0.35249          0.379064           0.173664   \n",
      "min              4.30000          2.300000           1.000000   \n",
      "25%              4.80000          3.200000           1.400000   \n",
      "50%              5.00000          3.400000           1.500000   \n",
      "75%              5.20000          3.675000           1.575000   \n",
      "max              5.80000          4.400000           1.900000   \n",
      "\n",
      "       petal width (cm)  \n",
      "count         50.000000  \n",
      "mean           0.246000  \n",
      "std            0.105386  \n",
      "min            0.100000  \n",
      "25%            0.200000  \n",
      "50%            0.200000  \n",
      "75%            0.300000  \n",
      "max            0.600000  \n",
      "Describing  versicolor\n",
      "       sepal length (cm)  sepal width (cm)  petal length (cm)  \\\n",
      "count          50.000000         50.000000          50.000000   \n",
      "mean            5.936000          2.770000           4.260000   \n",
      "std             0.516171          0.313798           0.469911   \n",
      "min             4.900000          2.000000           3.000000   \n",
      "25%             5.600000          2.525000           4.000000   \n",
      "50%             5.900000          2.800000           4.350000   \n",
      "75%             6.300000          3.000000           4.600000   \n",
      "max             7.000000          3.400000           5.100000   \n",
      "\n",
      "       petal width (cm)  \n",
      "count         50.000000  \n",
      "mean           1.326000  \n",
      "std            0.197753  \n",
      "min            1.000000  \n",
      "25%            1.200000  \n",
      "50%            1.300000  \n",
      "75%            1.500000  \n",
      "max            1.800000  \n",
      "Describing  virginica\n",
      "       sepal length (cm)  sepal width (cm)  petal length (cm)  \\\n",
      "count           50.00000         50.000000          50.000000   \n",
      "mean             6.58800          2.974000           5.552000   \n",
      "std              0.63588          0.322497           0.551895   \n",
      "min              4.90000          2.200000           4.500000   \n",
      "25%              6.22500          2.800000           5.100000   \n",
      "50%              6.50000          3.000000           5.550000   \n",
      "75%              6.90000          3.175000           5.875000   \n",
      "max              7.90000          3.800000           6.900000   \n",
      "\n",
      "       petal width (cm)  \n",
      "count          50.00000  \n",
      "mean            2.02600  \n",
      "std             0.27465  \n",
      "min             1.40000  \n",
      "25%             1.80000  \n",
      "50%             2.00000  \n",
      "75%             2.30000  \n",
      "max             2.50000  \n"
     ]
    }
   ],
   "source": [
    "for sp in species:\n",
    "    print('Describing ',sp)\n",
    "    d=df[df['species']==sp]\n",
    "    print(d.describe())"
   ]
  },
  {
   "cell_type": "code",
   "execution_count": null,
   "id": "275c581d-c4a6-404c-924d-5b06a26ddbd2",
   "metadata": {},
   "outputs": [],
   "source": []
  }
 ],
 "metadata": {
  "kernelspec": {
   "display_name": "Python 3 (ipykernel)",
   "language": "python",
   "name": "python3"
  },
  "language_info": {
   "codemirror_mode": {
    "name": "ipython",
    "version": 3
   },
   "file_extension": ".py",
   "mimetype": "text/x-python",
   "name": "python",
   "nbconvert_exporter": "python",
   "pygments_lexer": "ipython3",
   "version": "3.10.7"
  }
 },
 "nbformat": 4,
 "nbformat_minor": 5
}
